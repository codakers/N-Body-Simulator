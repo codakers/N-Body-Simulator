{
 "cells": [
  {
   "cell_type": "code",
   "execution_count": 3,
   "metadata": {},
   "outputs": [
    {
     "data": {
      "image/png": "[encoded data removed]",
      "text/plain": [
       "<Figure size 640x480 with 1 Axes>"
      ]
     },
     "metadata": {},
     "output_type": "display_data"
    }
   ],
   "source": [
    "import numpy as np\n",
    "import matplotlib.pyplot as plt\n",
    "from matplotlib.animation import FuncAnimation\n",
    "\n",
    "#parameters\n",
    "G      = 6.67430e-11 # gravitational constant in m^3 kg^-1 s^-2\n",
    "#G      = 1.0        #gravitational constant test ex \n",
    "DT     = 0.008      #time step #orginal value 0.01\n",
    "STEPS  = 5000       #number of steps to simulate\n",
    "N      = 10          #number of bodies\n",
    "\n",
    "#random initial conditions\n",
    "np.random.seed(42)\n",
    "masses    = np.random.uniform(0.5, 2.0, size=(N,))          #random masses\n",
    "positions = np.random.uniform(-1, 1, size=(N, 2))           #x, y\n",
    "velocities = np.random.uniform(-0.5, 0.5, size=(N, 2))      #vx, vy\n",
    "\n",
    "def compute_accelerations(pos, m):\n",
    "    \"\"\"\n",
    "    pos: (N,2) array of positions\n",
    "    m:   (N,)   array of masses\n",
    "    returns (N,2) array of accelerations on each body\n",
    "    \"\"\"\n",
    "    N = pos.shape[0]\n",
    "    acc = np.zeros_like(pos)\n",
    "    for i in range(N):\n",
    "        #vector from i → all\n",
    "        delta = pos - pos[i]                   #(N,2)\n",
    "        dist_sq = np.sum(delta**2, axis=1)     #(N,)\n",
    "        \n",
    "        softening = 1e-3 #softening length to avoid singularities and explosions of bodys\n",
    "        inv_dist3 = np.where(dist_sq>0, (dist_sq + softening**2)**(-1.5), 0.0) \n",
    "        \n",
    "        #inv_dist3 = np.where(dist_sq>0, dist_sq**(-1.5), 0.0) #old line\n",
    "        #this above line is the old line that doesnt soften or prevent explosions of n-bodys\n",
    "        \n",
    "        # a_i = G * Σ_{j≠i} m_j * (r_j - r_i) / |r_j - r_i|^3\n",
    "        forces = (G * m[:,None] * delta) * inv_dist3[:,None]\n",
    "        acc[i] = forces.sum(axis=0)\n",
    "    return acc\n",
    "\n",
    "#Anamation \n",
    "fig, ax = plt.subplots()\n",
    "scat = ax.scatter(positions[:,0], positions[:,1],\n",
    "                  s=masses*50, c='orange', edgecolor='k')\n",
    "ax.set_xlim(-5, 5)\n",
    "ax.set_ylim(-5, 5)\n",
    "ax.set_aspect('equal')\n",
    "ax.set_title('N‑Body Gravitational Simulation')\n",
    "\n",
    "def init():\n",
    "    scat.set_offsets(positions)\n",
    "    return (scat,)\n",
    "\n",
    "def update(frame):\n",
    "    global positions, velocities\n",
    "    #velocity‑Verlet step:\n",
    "    a1 = compute_accelerations(positions, masses)\n",
    "    positions += velocities * DT + 0.5 * a1 * DT**2\n",
    "    a2 = compute_accelerations(positions, masses)\n",
    "    velocities += 0.5 * (a1 + a2) * DT\n",
    "\n",
    "    scat.set_offsets(positions)\n",
    "    return (scat,)\n",
    "\n",
    "ani = FuncAnimation(\n",
    "    fig, update, frames=STEPS, init_func=init,\n",
    "    blit=True, interval=20, repeat=False\n",
    ")\n",
    "\n",
    "plt.title(\"N-Body Simulation\")\n",
    "plt.show()"
   ]
  }
 ],
 "metadata": {
  "kernelspec": {
   "display_name": "base",
   "language": "python",
   "name": "python3"
  },
  "language_info": {
   "codemirror_mode": {
    "name": "ipython",
    "version": 3
   },
   "file_extension": ".py",
   "mimetype": "text/x-python",
   "name": "python",
   "nbconvert_exporter": "python",
   "pygments_lexer": "ipython3",
   "version": "3.11.7"
  }
 },
 "nbformat": 4,
 "nbformat_minor": 2
}
